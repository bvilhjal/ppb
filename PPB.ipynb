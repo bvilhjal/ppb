{
 "cells": [
  {
   "cell_type": "code",
   "execution_count": 293,
   "metadata": {},
   "outputs": [],
   "source": [
    "import scipy as sp\n",
    "from scipy import linalg \n",
    "import pylab as plt\n"
   ]
  },
  {
   "cell_type": "code",
   "execution_count": 294,
   "metadata": {},
   "outputs": [],
   "source": [
    "n_snps=10000\n",
    "n_ind=2000\n",
    "n_ind_ref=1000"
   ]
  },
  {
   "cell_type": "code",
   "execution_count": 295,
   "metadata": {},
   "outputs": [],
   "source": [
    "#Simulate LD pattern\n",
    "rand_signs = sp.sign(sp.randn(n_snps))\n",
    "conseq_r = rand_signs*sp.sqrt(sp.rand(n_snps))\n",
    "\n",
    "#Simulating genotypes\n",
    "x = sp.zeros((n_snps,n_ind))\n",
    "x[0] = sp.randn(n_ind)\n",
    "for i in range(1,n_snps):\n",
    "    x[i]=conseq_r[i]*x[i-1]+sp.randn(n_ind)*sp.sqrt(1-conseq_r[i]**2)\n",
    "\n",
    "#Simulating genotypes for LD reference\n",
    "x_ref = sp.zeros((n_snps,n_ind_ref))\n",
    "x_ref[0] = sp.randn(n_ind_ref)\n",
    "for i in range(1,n_snps):\n",
    "    x_ref[i]=conseq_r[i]*x_ref[i-1]+sp.randn(n_ind_ref)*sp.sqrt(1-conseq_r[i]**2)\n"
   ]
  },
  {
   "cell_type": "code",
   "execution_count": 296,
   "metadata": {},
   "outputs": [],
   "source": [
    "#Standardized genotypes\n",
    "x = (x.T-sp.mean(x,axis=1)).T\n",
    "x = (x.T/sp.std(x,axis=1)).T\n",
    "\n",
    "x_ref = (x_ref.T-sp.mean(x_ref,axis=1)).T\n",
    "x_ref = (x_ref.T/sp.std(x_ref,axis=1)).T\n"
   ]
  },
  {
   "cell_type": "code",
   "execution_count": 297,
   "metadata": {},
   "outputs": [
    {
     "data": {
      "text/plain": [
       "array([[ 1.        ,  0.88421298, -0.62234487, ...,  0.03384873,\n",
       "         0.03741286,  0.02292858],\n",
       "       [ 0.88421298,  1.        , -0.71904884, ...,  0.02791605,\n",
       "         0.04566307,  0.02753123],\n",
       "       [-0.62234487, -0.71904884,  1.        , ..., -0.01737323,\n",
       "        -0.03089895, -0.04287037],\n",
       "       ...,\n",
       "       [ 0.03384873,  0.02791605, -0.01737323, ...,  1.        ,\n",
       "         0.80497952,  0.41856549],\n",
       "       [ 0.03741286,  0.04566307, -0.03089895, ...,  0.80497952,\n",
       "         1.        ,  0.51268087],\n",
       "       [ 0.02292858,  0.02753123, -0.04287037, ...,  0.41856549,\n",
       "         0.51268087,  1.        ]])"
      ]
     },
     "execution_count": 297,
     "metadata": {},
     "output_type": "execute_result"
    }
   ],
   "source": [
    "#Calculating LD using LD reference\n",
    "xx = x_ref@x_ref.T\n",
    "D = xx/sp.diag(xx)\n",
    "D.shape\n",
    "D"
   ]
  },
  {
   "cell_type": "code",
   "execution_count": 299,
   "metadata": {},
   "outputs": [
    {
     "data": {
      "text/plain": [
       "array([12.44782083, 12.6760066 , 12.3675348 , ..., 13.49835568,\n",
       "       12.74261408, 11.51870258])"
      ]
     },
     "execution_count": 299,
     "metadata": {},
     "output_type": "execute_result"
    }
   ],
   "source": [
    "#LD scores\n",
    "ldsc = sp.diag(D@D)\n",
    "ldsc"
   ]
  },
  {
   "cell_type": "code",
   "execution_count": 300,
   "metadata": {
    "scrolled": true
   },
   "outputs": [],
   "source": [
    "#Banded LD \n",
    "w=20\n",
    "D_mask = sp.zeros((n_snps,n_snps))\n",
    "for i in range(n_snps):\n",
    "    min_i = max(0,i-w)\n",
    "    max_i = min(n_snps,i+w)\n",
    "    D_mask[min_i:max_i,i]=D[min_i:max_i,i]"
   ]
  },
  {
   "cell_type": "code",
   "execution_count": 301,
   "metadata": {},
   "outputs": [
    {
     "data": {
      "text/plain": [
       "array([2.30731427, 2.4857829 , 2.19774332, ..., 3.23048887, 2.8354864 ,\n",
       "       1.67023006])"
      ]
     },
     "execution_count": 301,
     "metadata": {},
     "output_type": "execute_result"
    }
   ],
   "source": [
    "#Banded LD scores\n",
    "ldsc_mask = sp.diag(D_mask@D_mask)\n",
    "ldsc_mask"
   ]
  },
  {
   "cell_type": "code",
   "execution_count": 303,
   "metadata": {},
   "outputs": [],
   "source": [
    "#Simulate phenotypes\n",
    "def sim_phen(x, h2=0.8,n_phen=1000,prior='inf'):\n",
    "    (n_snps,n_ind) =x.shape\n",
    "    if prior=='inf':\n",
    "        betas_true = sp.sqrt(h2/n_snps)*sp.randn(n_phen,n_snps)\n",
    "    else:\n",
    "        raise Exception()\n",
    "    y_g = betas_true@x\n",
    "    y_e = sp.randn(n_phen,n_ind)\n",
    "    y = sp.sqrt(h2) *((y_g.T / sp.std(y_g,axis=1)).T) + sp.sqrt(1-h2)*y_e\n",
    "    #Standardize phenotypes\n",
    "    y = ((y.T - sp.mean(y,axis=1))/sp.std(y,axis=1)).T\n",
    "    return {'y': y, 'y_g':y_g, 'y_e':y_e, 'betas_true':betas_true}\n"
   ]
  },
  {
   "cell_type": "code",
   "execution_count": 304,
   "metadata": {},
   "outputs": [],
   "source": [
    "sim_phen = sim_phen(x, h2=0.8,n_phen=1000)\n",
    "y = sim_phen['y']\n",
    "betas_true = sim_phen['betas_true']"
   ]
  },
  {
   "cell_type": "code",
   "execution_count": 305,
   "metadata": {},
   "outputs": [],
   "source": [
    "#Perform GWAS\n",
    "x_train = x[:,:int(n_ind/2)]\n",
    "y_train = y[:,:int(n_ind/2)]\n",
    "x_test = x[:,int(n_ind/2):]\n",
    "y_test = y[:,int(n_ind/2):]\n",
    "betas = x_train@y_train.T/(n_ind/2)"
   ]
  },
  {
   "cell_type": "code",
   "execution_count": 306,
   "metadata": {},
   "outputs": [],
   "source": [
    "#Perform \"p-value\" thresholding\n",
    "betas_thres = betas.copy()\n",
    "betas_thres[betas**2<0.001]=0\n"
   ]
  },
  {
   "cell_type": "code",
   "execution_count": 307,
   "metadata": {},
   "outputs": [],
   "source": [
    "#LDSC regression on GWAS sum stats\n",
    "def run_ldsc(bs, ldsc, n_ind):\n",
    "    (n_snps,n_phen) = bs.shape\n",
    "    x2 = n_ind*(bs*bs).T\n",
    "    x_var = sp.vstack((sp.ones((n_snps,)),ldsc))\n",
    "    xx_i = linalg.inv(x_var@x_var.T)\n",
    "    h2s = sp.zeros(n_phen)\n",
    "    intercepts = sp.zeros(n_phen)\n",
    "    for i in range(n_phen):\n",
    "        w = (xx_i)@x_var@x2[i,]\n",
    "        intercepts[i] = w[0]\n",
    "        h2s[i] = n_snps*w[1]/(n_ind)\n",
    "    return {'intercepts':intercepts, 'h2s':h2s, 'slope':n_ind*(h2s/n_snps)}\n",
    "\n",
    "\n"
   ]
  },
  {
   "cell_type": "code",
   "execution_count": 308,
   "metadata": {},
   "outputs": [
    {
     "name": "stdout",
     "output_type": "stream",
     "text": [
      "0.26632284454906313\n",
      "0.7491753115411557\n"
     ]
    }
   ],
   "source": [
    "#LDSC with full LD\n",
    "res = run_ldsc(betas, ldsc, n_ind/2.0)\n",
    "print (sp.mean(res['intercepts']))\n",
    "print (sp.mean(res['h2s']))\n"
   ]
  },
  {
   "cell_type": "code",
   "execution_count": 310,
   "metadata": {},
   "outputs": [
    {
     "name": "stdout",
     "output_type": "stream",
     "text": [
      "0.998373280674283\n",
      "0.7969935623693036\n",
      "0.07969935623693035\n"
     ]
    }
   ],
   "source": [
    "#LDSC with full masked LD\n",
    "banded_res = run_ldsc(betas, ldsc_mask, n_ind/2.0)\n",
    "print (sp.mean(banded_res['intercepts']))\n",
    "print (sp.mean(banded_res['h2s']))\n",
    "print (sp.mean(banded_res['slope']))\n"
   ]
  },
  {
   "cell_type": "code",
   "execution_count": 311,
   "metadata": {},
   "outputs": [],
   "source": [
    "def simp_lin_reg(y, x):\n",
    "    (n,) = x.shape\n",
    "    x_var = sp.vstack((sp.ones(n),x))\n",
    "    xx_i = linalg.inv(x_var@x_var.T)\n",
    "    w = (xx_i)@x_var@y\n",
    "    return w\n"
   ]
  },
  {
   "cell_type": "code",
   "execution_count": 312,
   "metadata": {},
   "outputs": [],
   "source": [
    "# Cs using GWAS betas\n",
    "c = sp.diag(betas.T @ D @ betas)\n",
    "c_mask = sp.diag(betas.T @ D_mask @ betas)"
   ]
  },
  {
   "cell_type": "code",
   "execution_count": 313,
   "metadata": {},
   "outputs": [
    {
     "name": "stdout",
     "output_type": "stream",
     "text": [
      "[0.20278547 0.99834936]\n"
     ]
    },
    {
     "data": {
      "text/plain": [
       "[<matplotlib.lines.Line2D at 0x7fd6b18b6fd0>]"
      ]
     },
     "execution_count": 313,
     "metadata": {},
     "output_type": "execute_result"
    },
    {
     "data": {
      "image/png": "[encoded data removed]",
      "text/plain": [
       "<Figure size 432x288 with 1 Axes>"
      ]
     },
     "metadata": {
      "needs_background": "light"
     },
     "output_type": "display_data"
    }
   ],
   "source": [
    "plt.show()\n",
    "plt.scatter(c_mask,c)\n",
    "ws = simp_lin_reg(c, c_mask)\n",
    "print (ws)\n",
    "plt.plot(c_mask, ws[1]*c_mask + ws[0],color='r',alpha=0.5)\n"
   ]
  },
  {
   "cell_type": "code",
   "execution_count": 314,
   "metadata": {},
   "outputs": [
    {
     "name": "stdout",
     "output_type": "stream",
     "text": [
      "0.998373280674283\n",
      "0.7969935623693036\n",
      "0.07969935623693035\n"
     ]
    }
   ],
   "source": [
    "#LDSC \n",
    "ldsc_res = run_ldsc(betas, ldsc_mask, n_ind/2.0)\n",
    "print (sp.mean(ldsc_res['intercepts']))\n",
    "print (sp.mean(ldsc_res['h2s']))\n",
    "print (sp.mean(ldsc_res['slope']))"
   ]
  },
  {
   "cell_type": "code",
   "execution_count": 315,
   "metadata": {},
   "outputs": [],
   "source": [
    "# Cs using p-val thresholded GWAS betas\n",
    "c = sp.diag(betas_thres.T @ D @ betas_thres)\n",
    "c_mask = sp.diag(betas_thres.T @ D_mask @ betas_thres)\n"
   ]
  },
  {
   "cell_type": "code",
   "execution_count": 316,
   "metadata": {},
   "outputs": [
    {
     "name": "stdout",
     "output_type": "stream",
     "text": [
      "[-0.00709717  1.00317159]\n"
     ]
    },
    {
     "data": {
      "text/plain": [
       "[<matplotlib.lines.Line2D at 0x7fd6b189c210>]"
      ]
     },
     "execution_count": 316,
     "metadata": {},
     "output_type": "execute_result"
    },
    {
     "data": {
      "image/png": "[encoded data removed]",
      "text/plain": [
       "<Figure size 432x288 with 1 Axes>"
      ]
     },
     "metadata": {
      "needs_background": "light"
     },
     "output_type": "display_data"
    }
   ],
   "source": [
    "plt.show()\n",
    "plt.scatter(c_mask,c)\n",
    "ws = simp_lin_reg(c, c_mask)\n",
    "print (ws)\n",
    "plt.plot(c_mask, ws[1]*c_mask + ws[0],color='r',alpha=0.5)"
   ]
  },
  {
   "cell_type": "code",
   "execution_count": 317,
   "metadata": {},
   "outputs": [
    {
     "name": "stdout",
     "output_type": "stream",
     "text": [
      "0.7999460697826585\n",
      "0.8294494671118116\n",
      "0.08294494671118116\n"
     ]
    }
   ],
   "source": [
    "#LDSC \n",
    "banded_res_t = run_ldsc(betas_thres, ldsc_mask, n_ind/2.0)\n",
    "print (sp.mean(banded_res_t['intercepts']))\n",
    "print (sp.mean(banded_res_t['h2s']))\n",
    "print (sp.mean(banded_res_t['slope']))"
   ]
  },
  {
   "cell_type": "code",
   "execution_count": 266,
   "metadata": {},
   "outputs": [],
   "source": [
    "# Cs using true betas\n",
    "c = sp.diag(betas_true @ D @ betas_true.T)\n",
    "c_mask = sp.diag(betas_true @ D_mask @ betas_true.T)\n"
   ]
  },
  {
   "cell_type": "code",
   "execution_count": 267,
   "metadata": {},
   "outputs": [
    {
     "name": "stdout",
     "output_type": "stream",
     "text": [
      "[-0.01102291  1.01230737]\n"
     ]
    },
    {
     "data": {
      "text/plain": [
       "[<matplotlib.lines.Line2D at 0x7fd7417efc90>]"
      ]
     },
     "execution_count": 267,
     "metadata": {},
     "output_type": "execute_result"
    },
    {
     "data": {
      "image/png": "[encoded data removed]",
      "text/plain": [
       "<Figure size 432x288 with 1 Axes>"
      ]
     },
     "metadata": {
      "needs_background": "light"
     },
     "output_type": "display_data"
    }
   ],
   "source": [
    "plt.show()\n",
    "plt.scatter(c_mask,c)\n",
    "ws = simp_lin_reg(c, c_mask)\n",
    "print (ws)\n",
    "plt.plot(c_mask, ws[1]*c_mask + ws[0],color='r',alpha=0.5)"
   ]
  },
  {
   "cell_type": "code",
   "execution_count": 268,
   "metadata": {},
   "outputs": [
    {
     "name": "stdout",
     "output_type": "stream",
     "text": [
      "0.16017409339686667\n",
      "-0.0002568202307977065\n",
      "-5.136404615954132e-05\n"
     ]
    }
   ],
   "source": [
    "#LDSC \n",
    "ldsc_res = run_ldsc(betas_true.T, ldsc_mask, n_ind)\n",
    "print (sp.mean(ldsc_res['intercepts']))\n",
    "print (sp.mean(ldsc_res['h2s']))\n",
    "print (sp.mean(ldsc_res['slope']))"
   ]
  },
  {
   "cell_type": "code",
   "execution_count": null,
   "metadata": {},
   "outputs": [],
   "source": []
  }
 ],
 "metadata": {
  "kernelspec": {
   "display_name": "Python 3",
   "language": "python",
   "name": "python3"
  },
  "language_info": {
   "codemirror_mode": {
    "name": "ipython",
    "version": 3
   },
   "file_extension": ".py",
   "mimetype": "text/x-python",
   "name": "python",
   "nbconvert_exporter": "python",
   "pygments_lexer": "ipython3",
   "version": "3.7.4"
  }
 },
 "nbformat": 4,
 "nbformat_minor": 4
}
