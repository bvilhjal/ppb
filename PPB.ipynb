{
 "cells": [
  {
   "cell_type": "code",
   "execution_count": 1,
   "metadata": {},
   "outputs": [],
   "source": [
    "import scipy as sp\n",
    "from scipy import linalg "
   ]
  },
  {
   "cell_type": "code",
   "execution_count": 2,
   "metadata": {},
   "outputs": [],
   "source": [
    "n_snps=8000\n",
    "n_ind=1000"
   ]
  },
  {
   "cell_type": "code",
   "execution_count": 3,
   "metadata": {},
   "outputs": [],
   "source": [
    "#Without LD\n",
    "x = sp.randn(n_snps,n_ind*2)"
   ]
  },
  {
   "cell_type": "code",
   "execution_count": 4,
   "metadata": {},
   "outputs": [],
   "source": [
    "#With LD\n",
    "conseq_r2=0\n",
    "x = sp.zeros((n_snps,n_ind))\n",
    "x[0] = sp.randn(n_ind)\n",
    "rand_signs = sp.sign(sp.randn(n_snps))\n",
    "for i in range(1,n_snps):\n",
    "    x[i]=sp.sqrt(conseq_r2)*rand_signs[i]*x[i-1]+sp.randn(n_ind)*sp.sqrt(1-conseq_r2)\n",
    "    "
   ]
  },
  {
   "cell_type": "code",
   "execution_count": 5,
   "metadata": {},
   "outputs": [
    {
     "data": {
      "text/plain": [
       "array([[ 1.        ,  0.02190675, -0.01282017, ...,  0.0522545 ,\n",
       "         0.05599116,  0.01668638],\n",
       "       [ 0.02190675,  1.        , -0.0241766 , ..., -0.01059969,\n",
       "        -0.024495  , -0.02296755],\n",
       "       [-0.01282017, -0.0241766 ,  1.        , ..., -0.00295389,\n",
       "         0.05991693,  0.04358537],\n",
       "       ...,\n",
       "       [ 0.0522545 , -0.01059969, -0.00295389, ...,  1.        ,\n",
       "         0.066974  ,  0.01383171],\n",
       "       [ 0.05599116, -0.024495  ,  0.05991693, ...,  0.066974  ,\n",
       "         1.        ,  0.04007443],\n",
       "       [ 0.01668638, -0.02296755,  0.04358537, ...,  0.01383171,\n",
       "         0.04007443,  1.        ]])"
      ]
     },
     "execution_count": 5,
     "metadata": {},
     "output_type": "execute_result"
    }
   ],
   "source": [
    "#LD and scaled genotypes\n",
    "x = (x.T-sp.mean(x,axis=1)).T\n",
    "x = (x.T/sp.std(x,axis=1)).T\n",
    "xx = x@x.T\n",
    "D = xx/sp.diag(xx)\n",
    "D.shape\n",
    "D"
   ]
  },
  {
   "cell_type": "code",
   "execution_count": 6,
   "metadata": {},
   "outputs": [
    {
     "data": {
      "text/plain": [
       "array([9.04460043, 8.92530446, 9.26636221, ..., 8.8829335 , 9.08389668,\n",
       "       9.15125699])"
      ]
     },
     "execution_count": 6,
     "metadata": {},
     "output_type": "execute_result"
    }
   ],
   "source": [
    "#LD scores\n",
    "ldsc = sp.diag(D@D)\n",
    "ldsc"
   ]
  },
  {
   "cell_type": "code",
   "execution_count": 7,
   "metadata": {
    "scrolled": true
   },
   "outputs": [
    {
     "data": {
      "text/plain": [
       "array([[ 1.        ,  0.02190675, -0.01282017, ...,  0.        ,\n",
       "         0.        ,  0.        ],\n",
       "       [ 0.02190675,  1.        , -0.0241766 , ...,  0.        ,\n",
       "         0.        ,  0.        ],\n",
       "       [-0.01282017, -0.0241766 ,  1.        , ...,  0.        ,\n",
       "         0.        ,  0.        ],\n",
       "       ...,\n",
       "       [ 0.        ,  0.        ,  0.        , ...,  1.        ,\n",
       "         0.066974  ,  0.01383171],\n",
       "       [ 0.        ,  0.        ,  0.        , ...,  0.066974  ,\n",
       "         1.        ,  0.04007443],\n",
       "       [ 0.        ,  0.        ,  0.        , ...,  0.01383171,\n",
       "         0.04007443,  1.        ]])"
      ]
     },
     "execution_count": 7,
     "metadata": {},
     "output_type": "execute_result"
    }
   ],
   "source": [
    "#Banded LD \n",
    "w=10\n",
    "D_mask = sp.zeros((n_snps,n_snps))\n",
    "for i in range(n_snps):\n",
    "    min_i = max(0,i-w)\n",
    "    max_i = min(n_snps,i+w)\n",
    "    D_mask[min_i:max_i,i]=D[min_i:max_i,i]\n",
    "\n",
    "D_mask"
   ]
  },
  {
   "cell_type": "code",
   "execution_count": 8,
   "metadata": {},
   "outputs": [
    {
     "data": {
      "text/plain": [
       "array([1.005301  , 1.00633454, 1.01173694, ..., 1.01523293, 1.01109222,\n",
       "       1.00972235])"
      ]
     },
     "execution_count": 8,
     "metadata": {},
     "output_type": "execute_result"
    }
   ],
   "source": [
    "#Banded LD scores\n",
    "ldsc_mask = sp.diag(D_mask@D_mask)\n",
    "ldsc_mask"
   ]
  },
  {
   "cell_type": "code",
   "execution_count": 9,
   "metadata": {},
   "outputs": [],
   "source": [
    "#Simulate phenotypes\n",
    "h2=0.8\n",
    "n_sim=1000\n",
    "true_betas = sp.randn(n_sim,n_snps)\n",
    "y_g = true_betas@x\n",
    "y_e = sp.randn(n_sim,n_ind)\n",
    "y = sp.sqrt(h2) *((y_g.T / sp.std(y_g,axis=1)).T) + sp.sqrt(1-h2)*y_e\n",
    "#Standardize phenotypes\n",
    "y = ((y.T - sp.mean(y,axis=1))/sp.std(y,axis=1)).T\n"
   ]
  },
  {
   "cell_type": "code",
   "execution_count": 10,
   "metadata": {},
   "outputs": [],
   "source": [
    "#Perform GWAS\n",
    "x_train = x[:,:int(n_ind/2)]\n",
    "y_train = y[:,:int(n_ind/2)]\n",
    "x_test = x[:,int(n_ind/2):]\n",
    "y_test = y[:,int(n_ind/2):]\n",
    "betas = x_train@y_train.T/(n_ind/2)"
   ]
  },
  {
   "cell_type": "code",
   "execution_count": 11,
   "metadata": {},
   "outputs": [
    {
     "name": "stdout",
     "output_type": "stream",
     "text": [
      "0.5589686516423191\n",
      "1.4845436795151181\n",
      "0.8815057326402002\n",
      "4.705385375266791\n"
     ]
    }
   ],
   "source": [
    "#Full LDSC regression on GWAS sum stats\n",
    "x2 = (n_ind/2)*(betas*betas).T\n",
    "x_var = sp.vstack((sp.ones((n_snps,)),ldsc))\n",
    "xx_i = linalg.inv(x_var@x_var.T)\n",
    "h2s = sp.zeros(n_sim)\n",
    "intercepts = sp.zeros(n_sim)\n",
    "for i in range(n_sim):\n",
    "    w = (xx_i)@x_var@x2[i,]\n",
    "    intercepts[i] = w[0]\n",
    "    h2s[i] = n_snps*w[1]/(n_ind/2)\n",
    "print (sp.mean(intercepts))\n",
    "print (sp.var(intercepts))\n",
    "print (sp.mean(h2s))\n",
    "print (sp.var(h2s))\n",
    "\n"
   ]
  },
  {
   "cell_type": "code",
   "execution_count": 12,
   "metadata": {},
   "outputs": [
    {
     "name": "stdout",
     "output_type": "stream",
     "text": [
      "0.8447694817780202\n",
      "7.694156326910681\n",
      "3.3069460869371436\n",
      "1896.6680279884347\n"
     ]
    }
   ],
   "source": [
    "#Full Banded LDSC regression on GWAS sum stats\n",
    "x2 = (n_ind/2)*(betas*betas).T\n",
    "x_var = sp.vstack((sp.ones((n_snps,)),ldsc_mask))\n",
    "xx_i = linalg.inv(x_var@x_var.T)\n",
    "h2s = sp.zeros(n_sim)\n",
    "intercepts_banded = sp.zeros(n_sim)\n",
    "for i in range(n_sim):\n",
    "    w = (xx_i)@x_var@x2[i,]\n",
    "    intercepts_banded[i] = w[0]\n",
    "    h2s[i] = n_snps*w[1]/(n_ind/2)\n",
    "print (sp.mean(intercepts_banded))\n",
    "print (sp.var(intercepts_banded))\n",
    "print (sp.mean(h2s))\n",
    "print (sp.var(h2s))\n",
    "\n"
   ]
  },
  {
   "cell_type": "code",
   "execution_count": 13,
   "metadata": {},
   "outputs": [
    {
     "name": "stdout",
     "output_type": "stream",
     "text": [
      "[9.29527423 9.0300174  9.23903702 9.28954562 9.24472377 9.20400749\n",
      " 9.29100548 9.23484617 9.10863439 9.11147051]\n",
      "[ 0.58213124 -0.07743507  0.01254496  0.1162261  -1.01477731 -1.09138262\n",
      "  0.47390171  0.68849864  0.57135044  1.65919645]\n"
     ]
    },
    {
     "data": {
      "text/plain": [
       "9.215566454866726"
      ]
     },
     "execution_count": 13,
     "metadata": {},
     "output_type": "execute_result"
    }
   ],
   "source": [
    "c = sp.diag(betas.T @ D @ betas)\n",
    "c_mask = sp.diag(betas.T @ D_mask @ betas)\n",
    "c_diff = c/c_mask\n",
    "i_diff = intercepts/intercepts_banded\n",
    "print(c_diff[:10])\n",
    "print (i_diff[:10])\n",
    "sp.mean(c_diff)"
   ]
  },
  {
   "cell_type": "code",
   "execution_count": 14,
   "metadata": {},
   "outputs": [
    {
     "name": "stdout",
     "output_type": "stream",
     "text": [
      "[[ 1.         -0.09296229]\n",
      " [-0.09296229  1.        ]]\n"
     ]
    },
    {
     "data": {
      "text/plain": [
       "array([[ 0.01634353, -0.04281643],\n",
       "       [-0.04281643, 12.97960572]])"
      ]
     },
     "execution_count": 14,
     "metadata": {},
     "output_type": "execute_result"
    }
   ],
   "source": [
    "print(sp.corrcoef(c_diff,i_diff))\n",
    "sp.cov(c_diff,i_diff)\n"
   ]
  },
  {
   "cell_type": "code",
   "execution_count": null,
   "metadata": {},
   "outputs": [],
   "source": []
  },
  {
   "cell_type": "code",
   "execution_count": null,
   "metadata": {},
   "outputs": [],
   "source": []
  }
 ],
 "metadata": {
  "kernelspec": {
   "display_name": "Python 3",
   "language": "python",
   "name": "python3"
  },
  "language_info": {
   "codemirror_mode": {
    "name": "ipython",
    "version": 3
   },
   "file_extension": ".py",
   "mimetype": "text/x-python",
   "name": "python",
   "nbconvert_exporter": "python",
   "pygments_lexer": "ipython3",
   "version": "3.7.4"
  }
 },
 "nbformat": 4,
 "nbformat_minor": 4
}
