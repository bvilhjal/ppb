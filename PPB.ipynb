{
 "cells": [
  {
   "cell_type": "code",
   "execution_count": 56,
   "metadata": {},
   "outputs": [],
   "source": [
    "import scipy as sp\n",
    "from scipy import linalg \n",
    "import pylab as plt\n"
   ]
  },
  {
   "cell_type": "code",
   "execution_count": 57,
   "metadata": {},
   "outputs": [],
   "source": [
    "n_snps=10000\n",
    "n_ind=10000"
   ]
  },
  {
   "cell_type": "code",
   "execution_count": 58,
   "metadata": {},
   "outputs": [],
   "source": [
    "#With LD\n",
    "x = sp.zeros((n_snps,n_ind))\n",
    "x[0] = sp.randn(n_ind)\n",
    "rand_signs = sp.sign(sp.randn(n_snps))\n",
    "for i in range(1,n_snps):\n",
    "    conseq_r2=sp.sqrt(sp.rand())\n",
    "    x[i]=sp.sqrt(conseq_r2)*rand_signs[i]*x[i-1]+sp.randn(n_ind)*sp.sqrt(1-conseq_r2)\n",
    "    "
   ]
  },
  {
   "cell_type": "code",
   "execution_count": 59,
   "metadata": {},
   "outputs": [
    {
     "data": {
      "text/plain": [
       "array([[ 1.00000000e+00, -9.64521818e-01, -4.35284943e-01, ...,\n",
       "        -6.37955570e-03, -9.07027878e-03, -3.24669911e-03],\n",
       "       [-9.64521818e-01,  1.00000000e+00,  4.46463089e-01, ...,\n",
       "         7.36056533e-03,  7.96817677e-03,  6.60611501e-04],\n",
       "       [-4.35284943e-01,  4.46463089e-01,  1.00000000e+00, ...,\n",
       "         7.14728884e-03,  9.97611429e-03,  1.01578512e-02],\n",
       "       ...,\n",
       "       [-6.37955570e-03,  7.36056533e-03,  7.14728884e-03, ...,\n",
       "         1.00000000e+00, -5.10404252e-01, -3.56977418e-01],\n",
       "       [-9.07027878e-03,  7.96817677e-03,  9.97611429e-03, ...,\n",
       "        -5.10404252e-01,  1.00000000e+00,  6.91470893e-01],\n",
       "       [-3.24669911e-03,  6.60611501e-04,  1.01578512e-02, ...,\n",
       "        -3.56977418e-01,  6.91470893e-01,  1.00000000e+00]])"
      ]
     },
     "execution_count": 59,
     "metadata": {},
     "output_type": "execute_result"
    }
   ],
   "source": [
    "#LD and scaled genotypes\n",
    "x = (x.T-sp.mean(x,axis=1)).T\n",
    "x = (x.T/sp.std(x,axis=1)).T\n",
    "xx = x@x.T\n",
    "D = xx/sp.diag(xx)\n",
    "D.shape\n",
    "D"
   ]
  },
  {
   "cell_type": "code",
   "execution_count": 60,
   "metadata": {},
   "outputs": [
    {
     "data": {
      "text/plain": [
       "array([3.59101877, 3.61270207, 4.79388234, ..., 4.54018735, 3.26513457,\n",
       "       2.82498262])"
      ]
     },
     "execution_count": 60,
     "metadata": {},
     "output_type": "execute_result"
    }
   ],
   "source": [
    "#LD scores\n",
    "ldsc = sp.diag(D@D)\n",
    "ldsc"
   ]
  },
  {
   "cell_type": "code",
   "execution_count": 72,
   "metadata": {
    "scrolled": true
   },
   "outputs": [],
   "source": [
    "#Banded LD \n",
    "w=20\n",
    "D_mask = sp.zeros((n_snps,n_snps))\n",
    "for i in range(n_snps):\n",
    "    min_i = max(0,i-w)\n",
    "    max_i = min(n_snps,i+w)\n",
    "    D_mask[min_i:max_i,i]=D[min_i:max_i,i]"
   ]
  },
  {
   "cell_type": "code",
   "execution_count": 73,
   "metadata": {},
   "outputs": [
    {
     "data": {
      "text/plain": [
       "array([2.58145823, 2.61473141, 3.8097833 , ..., 3.55856686, 2.28709257,\n",
       "       1.86209771])"
      ]
     },
     "execution_count": 73,
     "metadata": {},
     "output_type": "execute_result"
    }
   ],
   "source": [
    "#Banded LD scores\n",
    "ldsc_mask = sp.diag(D_mask@D_mask)\n",
    "ldsc_mask"
   ]
  },
  {
   "cell_type": "code",
   "execution_count": 173,
   "metadata": {},
   "outputs": [],
   "source": [
    "#Simulate phenotypes\n",
    "def sim_phen(x, h2=0.8,n_phen=1000,prior='inf'):\n",
    "    (n_snps,n_ind) =x.shape\n",
    "    if prior=='inf':\n",
    "        betas_true = sp.sqrt(h2/n_snps)*sp.randn(n_phen,n_snps)\n",
    "    else:\n",
    "        raise Exception()\n",
    "    y_g = betas_true@x\n",
    "    y_e = sp.randn(n_phen,n_ind)\n",
    "    y = sp.sqrt(h2) *((y_g.T / sp.std(y_g,axis=1)).T) + sp.sqrt(1-h2)*y_e\n",
    "    #Standardize phenotypes\n",
    "    y = ((y.T - sp.mean(y,axis=1))/sp.std(y,axis=1)).T\n",
    "    return {'y': y, 'y_g':y_g, 'y_e':y_e, 'betas_true':betas_true}\n"
   ]
  },
  {
   "cell_type": "code",
   "execution_count": 174,
   "metadata": {},
   "outputs": [],
   "source": [
    "sim_phen = sim_phen(x, h2=0.8,n_phen=1000)\n",
    "y = sim_phen['y']\n",
    "betas_true = sim_phen['betas_true']"
   ]
  },
  {
   "cell_type": "code",
   "execution_count": 175,
   "metadata": {},
   "outputs": [],
   "source": [
    "#Perform GWAS\n",
    "x_train = x[:,:int(n_ind/2)]\n",
    "y_train = y[:,:int(n_ind/2)]\n",
    "x_test = x[:,int(n_ind/2):]\n",
    "y_test = y[:,int(n_ind/2):]\n",
    "betas = x_train@y_train.T/(n_ind/2)"
   ]
  },
  {
   "cell_type": "code",
   "execution_count": 176,
   "metadata": {},
   "outputs": [],
   "source": [
    "#Perform \"p-value\" thresholding\n",
    "betas_thres = betas.copy()\n",
    "betas_thres[betas**2<0.001]=0\n"
   ]
  },
  {
   "cell_type": "code",
   "execution_count": 177,
   "metadata": {},
   "outputs": [],
   "source": [
    "#LDSC regression on GWAS sum stats\n",
    "def run_ldsc(bs, ldsc, n_ind):\n",
    "    (n_snps,n_phen) = bs.shape\n",
    "    x2 = n_ind*(bs*bs).T\n",
    "    x_var = sp.vstack((sp.ones((n_snps,)),ldsc))\n",
    "    xx_i = linalg.inv(x_var@x_var.T)\n",
    "    h2s = sp.zeros(n_phen)\n",
    "    intercepts = sp.zeros(n_phen)\n",
    "    for i in range(n_phen):\n",
    "        w = (xx_i)@x_var@x2[i,]\n",
    "        intercepts[i] = w[0]\n",
    "        h2s[i] = n_snps*w[1]/(n_ind)\n",
    "    return {'intercepts':intercepts, 'h2s':h2s, 'slope':n_ind*(h2s/n_snps)}\n",
    "\n",
    "\n"
   ]
  },
  {
   "cell_type": "code",
   "execution_count": 178,
   "metadata": {},
   "outputs": [
    {
     "name": "stdout",
     "output_type": "stream",
     "text": [
      "0.566226872070915\n",
      "0.811409757321007\n"
     ]
    }
   ],
   "source": [
    "#LDSC with full LD\n",
    "res = run_ldsc(betas, ldsc, n_ind/2.0)\n",
    "print (sp.mean(res['intercepts']))\n",
    "print (sp.mean(res['h2s']))\n"
   ]
  },
  {
   "cell_type": "code",
   "execution_count": 179,
   "metadata": {},
   "outputs": [
    {
     "name": "stdout",
     "output_type": "stream",
     "text": [
      "0.9713133952819648\n",
      "0.8112903796786182\n",
      "0.4056451898393091\n"
     ]
    }
   ],
   "source": [
    "#LDSC with full masked LD\n",
    "banded_res = run_ldsc(betas, ldsc_mask, n_ind/2.0)\n",
    "print (sp.mean(banded_res['intercepts']))\n",
    "print (sp.mean(banded_res['h2s']))\n",
    "print (sp.mean(banded_res['slope']))\n"
   ]
  },
  {
   "cell_type": "code",
   "execution_count": 180,
   "metadata": {},
   "outputs": [
    {
     "name": "stdout",
     "output_type": "stream",
     "text": [
      "-0.1186013776514535\n",
      "0.8225760085100727\n",
      "0.41128800425503637\n"
     ]
    }
   ],
   "source": []
  },
  {
   "cell_type": "code",
   "execution_count": 181,
   "metadata": {},
   "outputs": [],
   "source": [
    "def simp_lin_reg(y, x):\n",
    "    (n,) = x.shape\n",
    "    x_var = sp.vstack((sp.ones(n),x))\n",
    "    xx_i = linalg.inv(x_var@x_var.T)\n",
    "    w = (xx_i)@x_var@y\n",
    "    return w\n"
   ]
  },
  {
   "cell_type": "code",
   "execution_count": 190,
   "metadata": {},
   "outputs": [],
   "source": [
    "# Cs using GWAS betas\n",
    "c = sp.diag(betas.T @ D @ betas)\n",
    "c_mask = sp.diag(betas.T @ D_mask @ betas)"
   ]
  },
  {
   "cell_type": "code",
   "execution_count": 191,
   "metadata": {},
   "outputs": [
    {
     "name": "stdout",
     "output_type": "stream",
     "text": [
      "[-3.20913414  1.33110591]\n"
     ]
    },
    {
     "data": {
      "text/plain": [
       "[<matplotlib.lines.Line2D at 0x7fda11aa0fd0>]"
      ]
     },
     "execution_count": 191,
     "metadata": {},
     "output_type": "execute_result"
    },
    {
     "data": {
      "image/png": "[encoded data removed]",
      "text/plain": [
       "<Figure size 432x288 with 1 Axes>"
      ]
     },
     "metadata": {
      "needs_background": "light"
     },
     "output_type": "display_data"
    }
   ],
   "source": [
    "plt.show()\n",
    "plt.scatter(c_mask,c)\n",
    "ws = simp_lin_reg(c, c_mask)\n",
    "print (ws)\n",
    "plt.plot(c_mask, ws[1]*c_mask + ws[0],color='r',alpha=0.5)\n"
   ]
  },
  {
   "cell_type": "code",
   "execution_count": 209,
   "metadata": {},
   "outputs": [
    {
     "name": "stdout",
     "output_type": "stream",
     "text": [
      "0.9713133952819648\n",
      "0.8112903796786182\n",
      "0.6369028103559514\n"
     ]
    }
   ],
   "source": [
    "#LDSC \n",
    "ldsc_res = run_ldsc(betas, ldsc_mask, n_ind/2.0)\n",
    "print (sp.mean(ldsc_res['intercepts']))\n",
    "print (sp.mean(ldsc_res['h2s']))\n",
    "print (sp.mean(ldsc_res['slope']))"
   ]
  },
  {
   "cell_type": "code",
   "execution_count": 203,
   "metadata": {},
   "outputs": [],
   "source": [
    "# Cs using p-val thresholded GWAS betas\n",
    "c = sp.diag(betas_thres.T @ D @ betas_thres)\n",
    "c_mask = sp.diag(betas_thres.T @ D_mask @ betas_thres)\n"
   ]
  },
  {
   "cell_type": "code",
   "execution_count": 204,
   "metadata": {},
   "outputs": [
    {
     "name": "stdout",
     "output_type": "stream",
     "text": [
      "[-0.97253473  1.22912071]\n"
     ]
    },
    {
     "data": {
      "text/plain": [
       "[<matplotlib.lines.Line2D at 0x7fda714acf50>]"
      ]
     },
     "execution_count": 204,
     "metadata": {},
     "output_type": "execute_result"
    },
    {
     "data": {
      "image/png": "[encoded data removed]",
      "text/plain": [
       "<Figure size 432x288 with 1 Axes>"
      ]
     },
     "metadata": {
      "needs_background": "light"
     },
     "output_type": "display_data"
    }
   ],
   "source": [
    "plt.show()\n",
    "plt.scatter(c_mask,c)\n",
    "ws = simp_lin_reg(c, c_mask)\n",
    "print (ws)\n",
    "plt.plot(c_mask, ws[1]*c_mask + ws[0],color='r',alpha=0.5)"
   ]
  },
  {
   "cell_type": "code",
   "execution_count": 210,
   "metadata": {},
   "outputs": [
    {
     "name": "stdout",
     "output_type": "stream",
     "text": [
      "-0.1186013776514535\n",
      "0.8225760085100727\n",
      "0.41128800425503637\n"
     ]
    }
   ],
   "source": [
    "#LDSC \n",
    "banded_res_t = run_ldsc(betas_thres, ldsc_mask, n_ind/2.0)\n",
    "print (sp.mean(banded_res_t['intercepts']))\n",
    "print (sp.mean(banded_res_t['h2s']))\n",
    "print (sp.mean(banded_res_t['slope']))"
   ]
  },
  {
   "cell_type": "code",
   "execution_count": 211,
   "metadata": {},
   "outputs": [],
   "source": [
    "# Cs using true betas\n",
    "c = sp.diag(betas_true @ D @ betas_true.T)\n",
    "c_mask = sp.diag(betas_true @ D_mask @ betas_true.T)\n"
   ]
  },
  {
   "cell_type": "code",
   "execution_count": 212,
   "metadata": {},
   "outputs": [
    {
     "name": "stdout",
     "output_type": "stream",
     "text": [
      "[0.02049932 0.97440792]\n"
     ]
    },
    {
     "data": {
      "text/plain": [
       "[<matplotlib.lines.Line2D at 0x7fda71663ad0>]"
      ]
     },
     "execution_count": 212,
     "metadata": {},
     "output_type": "execute_result"
    },
    {
     "data": {
      "image/png": "[encoded data removed]",
      "text/plain": [
       "<Figure size 432x288 with 1 Axes>"
      ]
     },
     "metadata": {
      "needs_background": "light"
     },
     "output_type": "display_data"
    }
   ],
   "source": [
    "plt.show()\n",
    "plt.scatter(c_mask,c)\n",
    "ws = simp_lin_reg(c, c_mask)\n",
    "print (ws)\n",
    "plt.plot(c_mask, ws[1]*c_mask + ws[0],color='r',alpha=0.5)"
   ]
  },
  {
   "cell_type": "code",
   "execution_count": 213,
   "metadata": {},
   "outputs": [
    {
     "name": "stdout",
     "output_type": "stream",
     "text": [
      "0.8000724740927331\n",
      "-3.3859850641876075e-06\n",
      "-3.385985064187691e-06\n"
     ]
    }
   ],
   "source": [
    "#LDSC \n",
    "ldsc_res = run_ldsc(betas_true.T, ldsc_mask, n_ind)\n",
    "print (sp.mean(ldsc_res['intercepts']))\n",
    "print (sp.mean(ldsc_res['h2s']))\n",
    "print (sp.mean(ldsc_res['slope']))"
   ]
  }
 ],
 "metadata": {
  "kernelspec": {
   "display_name": "Python 3",
   "language": "python",
   "name": "python3"
  },
  "language_info": {
   "codemirror_mode": {
    "name": "ipython",
    "version": 3
   },
   "file_extension": ".py",
   "mimetype": "text/x-python",
   "name": "python",
   "nbconvert_exporter": "python",
   "pygments_lexer": "ipython3",
   "version": "3.7.4"
  }
 },
 "nbformat": 4,
 "nbformat_minor": 4
}
